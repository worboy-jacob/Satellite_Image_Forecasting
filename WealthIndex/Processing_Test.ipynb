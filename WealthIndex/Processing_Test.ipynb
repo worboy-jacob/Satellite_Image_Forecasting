{
 "cells": [
  {
   "cell_type": "markdown",
   "metadata": {},
   "source": [
    "# Wealth Index Calculation Testing\n",
    "\n",
    "This notebook is used to test the functionality of 'WealthIndex.py'"
   ]
  },
  {
   "cell_type": "markdown",
   "metadata": {},
   "source": [
    "Getting libraries and configurations, importing classes"
   ]
  },
  {
   "cell_type": "code",
   "execution_count": 1,
   "metadata": {},
   "outputs": [],
   "source": [
    "import pandas as pd\n",
    "import numpy as np\n",
    "import json\n",
    "import logging\n",
    "import os\n",
    "from sklearn.preprocessing import OneHotEncoder, StandardScaler\n",
    "from sklearn.neighbors import KNeighborsClassifier\n",
    "from prince import FAMD\n",
    "import matplotlib.pyplot as plt\n",
    "from collections import Counter\n",
    "import time\n",
    "import warnings\n",
    "\n",
    "# Import the classes from WealthIndex.py\n",
    "from WealthIndex import (\n",
    "    ConfigLoader,\n",
    "    DataProcessor,\n",
    "    KNN_Imputer,\n",
    "    FAMDAnalyzer,\n",
    "    WealthIndexCalculator,\n",
    ")\n",
    "\n",
    "# Configure logging\n",
    "logging.basicConfig(\n",
    "    level=logging.Debug,\n",
    "    format=\"%(asctime)s - %(levelname)s - %(message)s\",\n",
    "    handlers=[\n",
    "        logging.FileHandler(\"wealth_index_creation_test.log\"),\n",
    "        logging.StreamHandler(),\n",
    "    ],\n",
    ")\n",
    "\n",
    "warnings.filterwarnings(\"ignore\", category=UserWarning, module=\".*\", append=True)"
   ]
  },
  {
   "cell_type": "markdown",
   "metadata": {},
   "source": [
    "Load configuration for test data"
   ]
  },
  {
   "cell_type": "code",
   "execution_count": null,
   "metadata": {},
   "outputs": [],
   "source": [
    "# Load Configuration\n",
    "config_path = \"Configs/DHS_Senegal_config.json\"\n",
    "config_loader = ConfigLoader(config_path)\n",
    "config = config_loader.config\n",
    "\n",
    "logging.debug(f\"Configuration file loaded: {config}\")"
   ]
  }
 ],
 "metadata": {
  "kernelspec": {
   "display_name": "py12.7seminar",
   "language": "python",
   "name": "python3"
  },
  "language_info": {
   "codemirror_mode": {
    "name": "ipython",
    "version": 3
   },
   "file_extension": ".py",
   "mimetype": "text/x-python",
   "name": "python",
   "nbconvert_exporter": "python",
   "pygments_lexer": "ipython3",
   "version": "3.12.3"
  }
 },
 "nbformat": 4,
 "nbformat_minor": 2
}
