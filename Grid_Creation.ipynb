{
 "cells": [
  {
   "cell_type": "code",
   "execution_count": null,
   "metadata": {},
   "outputs": [],
   "source": [
    "import geopandas as gpd\n",
    "from shapely.geometry import box\n",
    "import numpy as np\n",
    "\n",
    "# Assuming your GeoDataFrame is called 'gdf' and contains one MultiPolygon\n",
    "multipolygon = gdf.geometry.iloc[0]\n",
    "\n",
    "# Get the bounding box\n",
    "minx, miny, maxx, maxy = multipolygon.bounds\n",
    "\n",
    "# Define grid size in meters\n",
    "grid_size = 1000  # 1 km\n",
    "\n",
    "# Round up maxx and maxy to the next multiple of grid_size\n",
    "maxx = minx + np.ceil((maxx - minx) / grid_size) * grid_size\n",
    "maxy = miny + np.ceil((maxy - miny) / grid_size) * grid_size\n",
    "\n",
    "# Generate grid coordinates\n",
    "x_coords = np.arange(minx, maxx, grid_size)\n",
    "y_coords = np.arange(miny, maxy, grid_size)\n",
    "\n",
    "# Create a grid of square polygons\n",
    "grid_polygons = [\n",
    "    box(x, y, x + grid_size, y + grid_size) for x in x_coords for y in y_coords\n",
    "]\n",
    "\n",
    "# Convert to GeoDataFrame\n",
    "grid_gdf = gpd.GeoDataFrame(geometry=grid_polygons, crs=gdf.crs)\n",
    "\n",
    "# Keep only squares that intersect with the MultiPolygon\n",
    "final_squares = grid_gdf[grid_gdf.intersects(multipolygon)]\n",
    "\n",
    "# Save result if needed\n",
    "final_squares.to_file(\"extended_grid.geojson\", driver=\"GeoJSON\")"
   ]
  }
 ],
 "metadata": {
  "language_info": {
   "name": "python"
  }
 },
 "nbformat": 4,
 "nbformat_minor": 2
}
