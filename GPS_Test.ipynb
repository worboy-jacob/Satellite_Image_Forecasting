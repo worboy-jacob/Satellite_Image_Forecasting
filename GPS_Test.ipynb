{
 "cells": [
  {
   "cell_type": "code",
   "execution_count": 11,
   "metadata": {},
   "outputs": [],
   "source": [
    "#TODO: None of this has been tested as I didn't get the chance to export data from the processing_test file.\n",
    "import subprocess\n",
    "import os\n",
    "import pandas as pd\n",
    "import geopandas as gpd\n",
    "import numpy as np\n",
    "from shapely.geometry import Point\n",
    "from shapely.ops import unary_union\n",
    "import matplotlib.pyplot as plt\n",
    "import folium"
   ]
  },
  {
   "cell_type": "code",
   "execution_count": null,
   "metadata": {},
   "outputs": [],
   "source": [
    "def get_git_root():\n",
    "    try:\n",
    "        root_dir = (\n",
    "            subprocess.check_output([\"git\", \"rev-parse\", \"--show-toplevel\"])\n",
    "            .strip()\n",
    "            .decode(\"utf-8\")\n",
    "        )\n",
    "        return root_dir\n",
    "    except subprocess.CalledProcessError:\n",
    "        raise Exception(\"This is not a Git repository\")\n",
    "\n",
    "\n",
    "# Get the Git repository's root directory\n",
    "repo_root = get_git_root()\n",
    "subfolder='data'\n",
    "###FIXME: Maybe better folders for the data, the file_paths would need to be changed in that case\n",
    "file_path = os.path.join(repo_root, subfolder, \"SNGE8RFL.shp\")\n",
    "gps_df=gpd.read_file(file_path)"
   ]
  },
  {
   "cell_type": "code",
   "execution_count": null,
   "metadata": {},
   "outputs": [],
   "source": [
    "###Calculate the wealth index average for each cluster with weights based on the household sample weight\n",
    "household_wealth_index_df=pd.read_csv(os.path.join(repo_root, \"Wealth_Index_DF.csv\"))\n",
    "def weighted_average(values, weights):\n",
    "    return np.average(values, weights=weights) \n",
    "\n",
    "cluster_wealth=household_wealth_index_df.groupby('hv001').apply(\n",
    "    lambda x:pd.series({'wealth_index':weighted_average(x['wealth_index'],x['hv005'])})\n",
    ").reset_index()"
   ]
  },
  {
   "cell_type": "code",
   "execution_count": null,
   "metadata": {},
   "outputs": [],
   "source": [
    "gps_df=pd.merge(gps_df, cluster_wealth,on='hv001',how='left') #Adding the wealth index to the gps data\n"
   ]
  },
  {
   "cell_type": "code",
   "execution_count": 12,
   "metadata": {},
   "outputs": [],
   "source": [
    "senegal_filepath=os.path.join(repo_root, subfolder,'Senegal_Shapefile', \"gadm41_SEN_0.shp\")\n",
    "senegal_boundary=gpd.read_file(senegal_filepath)"
   ]
  },
  {
   "cell_type": "code",
   "execution_count": null,
   "metadata": {},
   "outputs": [],
   "source": [
    "###Creating the geometry and the dataframe that includes the geometry\n",
    "geometry=[Point(xy) for xy in zip(gps_df['LONGNUM'],gps_df['LATNUM'])]\n",
    "gdf=gpd.GeoDataFrame(gps_df,geometry=geometry)\n",
    "\n",
    "###adding a buffer based on ubran or rural\n",
    "def create_errorbounds(row):\n",
    "    if row[\"URBAN_RURA\"]=='U':\n",
    "        return row['geometry'].buffer(2000)\n",
    "    elif row[\"URBAN_RURA\"]=='R':\n",
    "        return row['geometry'].buffer(10000)\n",
    "    else:\n",
    "        print(f\"Error, can't determine urban or rural for row {row}. Exiting\")\n",
    "        exit()\n",
    "\n",
    "gdf['buffer']=gdf.apply(create_errorbounds,axis=1)\n",
    "\n",
    "###Clipping the buffer to the Senegal boundary\n",
    "gdf['buffer_clipped']=gdf['buffer'].apply(lambda x: x.intersection(senegal_boundary.geometry.unary_union)) \n",
    "\n",
    "buffer_gdf=gpd.GeoDataFrame(gdf,geometry=gdf['buffer_clipped'])\n",
    "\n",
    "###Checking for overlapping regions\n",
    "gdf_within_buffers=gpd.sjoin(gdf,buffer_gdf,how='left',op='within')\n",
    "\n",
    "###For overlapping regions, averaging the wealth index\n",
    "gdf_within_buffers['wealth_index']=gdf_within_buffers.groupby('index_right')['wealth_index'].transform('mean')"
   ]
  },
  {
   "cell_type": "code",
   "execution_count": null,
   "metadata": {},
   "outputs": [],
   "source": [
    "fig, ax = plt.subplots(figsize=(10, 10))\n",
    "\n",
    "# Plot Senegal boundary\n",
    "senegal_boundary.plot(ax=ax, color=\"lightgray\", edgecolor=\"black\")\n",
    "\n",
    "# Plot the points with averaged wealth index values\n",
    "gdf_within_buffers.plot(ax=ax, color=\"blue\", alpha=0.5, markersize=5)\n",
    "\n",
    "gdf_within_buffers.plot(\n",
    "    column=\"wealth_index\",\n",
    "    ax=ax,\n",
    "    legend=True,\n",
    "    legend_kwds={\"label\": \"Average Wealth Index\", \"orientation\": \"horizontal\"},\n",
    ")\n",
    "\n",
    "plt.title(\"Averaged Wealth Index Across Senegal\")\n",
    "plt.xlabel(\"Longitude\")\n",
    "plt.ylabel(\"Latitude\")\n",
    "plt.show()"
   ]
  },
  {
   "cell_type": "code",
   "execution_count": null,
   "metadata": {},
   "outputs": [],
   "source": [
    "###Trying an interactive map centered on Senegal\n",
    "m = folium.Map(location=[14.5, -14], zoom_start=7)  # Center on Senegal\n",
    "for _, row in gdf.iterrows():\n",
    "    folium.CircleMarker(\n",
    "        location=[row[\"LATNUM\"], row[\"LONGNUM\"]],\n",
    "        radius=5,\n",
    "        color=\"blue\" if row[\"URBAN_RURA\"] == \"U\" else \"green\",\n",
    "        fill=True,\n",
    "        fill_color=\"blue\" if row[\"URBAN_RURA\"] == \"U\" else \"green\",\n",
    "        fill_opacity=0.6,\n",
    "        popup=f\"Region: {row['hv001']} | Wealth Index: {row['wealth_index']}\",\n",
    "    ).add_to(m)\n",
    "\n",
    "m.save(\"wealth_index_map.html\")"
   ]
  }
 ],
 "metadata": {
  "kernelspec": {
   "display_name": "py12.7seminar",
   "language": "python",
   "name": "python3"
  },
  "language_info": {
   "codemirror_mode": {
    "name": "ipython",
    "version": 3
   },
   "file_extension": ".py",
   "mimetype": "text/x-python",
   "name": "python",
   "nbconvert_exporter": "python",
   "pygments_lexer": "ipython3",
   "version": "3.12.3"
  }
 },
 "nbformat": 4,
 "nbformat_minor": 2
}
